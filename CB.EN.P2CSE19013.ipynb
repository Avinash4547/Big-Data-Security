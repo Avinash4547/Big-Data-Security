{
 "cells": [
  {
   "cell_type": "code",
   "execution_count": 2,
   "metadata": {
    "colab": {
     "base_uri": "https://localhost:8080/",
     "height": 34
    },
    "colab_type": "code",
    "id": "UyDfxLo8PW5a",
    "outputId": "3e235627-cd4e-4d67-9d76-d9bb67d7cfc2"
   },
   "outputs": [
    {
     "name": "stdout",
     "output_type": "stream",
     "text": [
      "825668299347830987659683573443\n"
     ]
    }
   ],
   "source": [
    "#1 large prime numbers\n",
    "from random import randrange, getrandbits\n",
    "def is_prime(n, k=128):\n",
    "\"\"\" Test if a number is prime\n",
    " Args:\n",
    "    n -- int -- the number to test\n",
    "    k -- int -- the number of tests to do\n",
    "    return True if n is prime\n",
    "\"\"\"\n",
    "    if n == 2 or n == 3:\n",
    "        return True\n",
    "    if n <= 1 or n % 2 == 0:\n",
    "        return False\n",
    "    # find r and s\n",
    "    s = 0\n",
    "    r = n - 1\n",
    "    while r & 1 == 0:\n",
    "        s += 1\n",
    "        r //= 2\n",
    "    # do k tests\n",
    "    for _ in range(k):\n",
    "        a = randrange(2, n - 1)\n",
    "        x = pow(a, r, n)\n",
    "        if x != 1 and x != n - 1:\n",
    "            j = 1\n",
    "            while j < s and x != n - 1:\n",
    "                x = pow(x, 2, n)\n",
    "                if x == 1:\n",
    "                    return False\n",
    "                j += 1\n",
    "            if x != n - 1:\n",
    "                return False\n",
    "    return True\n",
    "def generate_prime_candidate(length):\n",
    "    \"\"\" Generate an odd integer randomly\n",
    "        Args:\n",
    "            length -- int -- the length of the number to generate, in bits\n",
    "        return a integer\n",
    "    \"\"\"\n",
    "    # generate random bits\n",
    "    p = getrandbits(length)\n",
    "    # apply a mask to set MSB and LSB to 1\n",
    "    p |= (1 << length - 1) | 1\n",
    "    return p\n",
    "def generate_prime_number(length=100):\n",
    "    \"\"\" Generate a prime\n",
    "        Args:\n",
    "            length -- int -- length of the prime to generate, in          bits\n",
    "        return a prime\n",
    "    \"\"\"\n",
    "    p = 9\n",
    "    # keep generating while the primality test fail\n",
    "    while not is_prime(p, 128):\n",
    "        p = generate_prime_candidate(length)\n",
    "    return p\n",
    "print(generate_prime_number())"
   ]
  },
  {
   "cell_type": "code",
   "execution_count": 5,
   "metadata": {},
   "outputs": [
    {
     "name": "stdout",
     "output_type": "stream",
     "text": [
      "[2, 3, 8, 10, 11, 14, 15, 18, 19, 21, 26, 27]\n"
     ]
    }
   ],
   "source": [
    "#2 primitive roots\n",
    "#Python program to find primitive root\n",
    "\n",
    "\n",
    "def gcd(a,b):\n",
    "    while b != 0:\n",
    "        a, b = b, a % b\n",
    "    return a\n",
    "\n",
    "def primRoots(modulo):\n",
    "    roots = []\n",
    "    required_set = set(num for num in range (1, modulo) if gcd(num, modulo) == 1)\n",
    "\n",
    "    for g in range(1, modulo):\n",
    "        actual_set = set(pow(g, powers) % modulo for powers in range (1, modulo))\n",
    "        if required_set == actual_set:\n",
    "            roots.append(g)           \n",
    "    return roots\n",
    "\n",
    "if __name__ == \"__main__\":\n",
    "    p = 29\n",
    "    primitive_roots = primRoots(p)\n",
    "    print(primitive_roots)"
   ]
  },
  {
   "cell_type": "code",
   "execution_count": 6,
   "metadata": {
    "colab": {
     "base_uri": "https://localhost:8080/",
     "height": 170
    },
    "colab_type": "code",
    "id": "zTxmD8h1cwen",
    "outputId": "9989394e-bfa1-4bf0-959d-b80b7b8ffe81"
   },
   "outputs": [
    {
     "name": "stdout",
     "output_type": "stream",
     "text": [
      "A private key is 6780792\n",
      "B private key is 354534\n",
      "\n",
      " p parameter is 2213, g parameter is 2 \n",
      "\n",
      "Alice public key is 1150\n",
      "Bob public key is 1122\n",
      "\n",
      " Common secret: 965 == 965\n"
     ]
    }
   ],
   "source": [
    "#3 DH ALGORITHM\n",
    "from random import getrandbits\n",
    "from random import randint\n",
    "import sys\n",
    "\n",
    "def is_prime_calc(num):\n",
    "    return all(num % i for i in range(2, num))\n",
    "\n",
    "def is_prime(num):\n",
    "    return is_prime_calc(num)\n",
    "\n",
    "def get_random_prime():\n",
    "    while True:\n",
    "        n = getrandbits(12) + 3;\n",
    "        if is_prime(n):\n",
    "            return n\n",
    "\n",
    "def gcd(a,b):\n",
    "    while a != b:\n",
    "        if a > b:\n",
    "            a = a - b\n",
    "        else:\n",
    "            b = b - a\n",
    "    return a\n",
    "\n",
    "def primitive_root(modulo):\n",
    "    required_set = set(num for num in range (1, modulo) if gcd(num, modulo) == 1)\n",
    "    for g in range(1, modulo):\n",
    "        actual_set = set(pow(g, powers) % modulo for powers in range (1, modulo))\n",
    "        if required_set == actual_set:\n",
    "            return g\n",
    "\n",
    "# Generating private keys\n",
    "alice_private = randint(88888, 8888888)\n",
    "print ('A private key is %d' % alice_private)\n",
    "bob_private = randint(88888, 8888888)\n",
    "print ('B private key is %d' % bob_private)\n",
    "\n",
    "# Generating p-g parameters\n",
    "p = get_random_prime()\n",
    "g = primitive_root(p)\n",
    "\n",
    "print ('\\n p parameter is %d, g parameter is %d \\n' % (p, g))\n",
    "\n",
    "# Generating public keys\n",
    "alice_public = pow(g, alice_private) % p\n",
    "bob_public = pow(g, bob_private) % p\n",
    "\n",
    "print ('Alice public key is %d' % alice_public)\n",
    "print ('Bob public key is %d' % bob_public)\n",
    "\n",
    "alice_key = (pow(bob_public, alice_private)) % p\n",
    "bob_key = (pow(alice_public, bob_private)) % p\n",
    "\n",
    "print ('\\n Common secret: %d == %d' % (alice_key, bob_key))"
   ]
  },
  {
   "cell_type": "code",
   "execution_count": 7,
   "metadata": {
    "colab": {
     "base_uri": "https://localhost:8080/",
     "height": 51
    },
    "colab_type": "code",
    "id": "yoPjtHFux48A",
    "outputId": "e41fb46d-11e6-42bb-e41b-23b88a7168c6"
   },
   "outputs": [
    {
     "name": "stdout",
     "output_type": "stream",
     "text": [
      "2\n",
      "-1\n"
     ]
    }
   ],
   "source": [
    "#4 Python3 program to calculate discrete logarithm  \n",
    "import math; \n",
    "  \n",
    "# Iterative Function to calculate  \n",
    "# (x ^ y)%p in O(log y)  \n",
    "def powmod(x, y, p):  \n",
    "  \n",
    "    res = 1; # Initialize result  \n",
    "  \n",
    "    x = x % p; # Update x if it is more  \n",
    "               # than or equal to p  \n",
    "  \n",
    "    while (y > 0):  \n",
    "          \n",
    "        # If y is odd, multiply x with result  \n",
    "        if (y & 1):  \n",
    "            res = (res * x) % p;  \n",
    "  \n",
    "        # y must be even now  \n",
    "        y = y >> 1; # y = y/2  \n",
    "        x = (x * x) % p;  \n",
    "    return res;  \n",
    "  \n",
    "# Function to calculate k for given a, b, m  \n",
    "def discreteLogarithm(a, b, m):  \n",
    "    n = int(math.sqrt(m) + 1);  \n",
    "  \n",
    "    value = [0] * m;  \n",
    "  \n",
    "    # Store all values of a^(n*i) of LHS  \n",
    "    for i in range(n, 0, -1):  \n",
    "        value[ powmod (a, i * n, m) ] = i;  \n",
    "  \n",
    "    for j in range(n):  \n",
    "          \n",
    "        # Calculate (a ^ j) * b and check  \n",
    "        # for collision  \n",
    "        cur = (powmod (a, j, m) * b) % m;  \n",
    "  \n",
    "        # If collision occurs i.e., LHS = RHS  \n",
    "        if (value[cur]):  \n",
    "            ans = value[cur] * n - j;  \n",
    "              \n",
    "            # Check whether ans lies below m or not  \n",
    "            if (ans < m):  \n",
    "                return ans;  \n",
    "      \n",
    "    return -1;  \n",
    "  \n",
    "# Driver code  \n",
    "a = 300;  \n",
    "b = 3;  \n",
    "m = 5;  \n",
    "print(discreteLogarithm(a, b, m));  \n",
    "  \n",
    "a = 450;  \n",
    "b = 7;  \n",
    "m = 11;  \n",
    "print(discreteLogarithm(a, b, m));  \n"
   ]
  },
  {
   "cell_type": "code",
   "execution_count": 8,
   "metadata": {
    "colab": {
     "base_uri": "https://localhost:8080/",
     "height": 102
    },
    "colab_type": "code",
    "id": "dFk5-DRjWNGT",
    "outputId": "b2243ce1-a40d-4af9-d796-10cc80fb1f17"
   },
   "outputs": [
    {
     "name": "stdout",
     "output_type": "stream",
     "text": [
      "Enter the value of p = 23\n",
      "Enter the value of q = 9\n",
      "Enter the value of text = 9\n",
      "n = 207 e = 3 t = 176 d = 59 cipher text = 108 decrypted text = 9\n",
      "Program Executed in 0.040074199999935445\n"
     ]
    }
   ],
   "source": [
    "#Q5\n",
    "import timeit\n",
    "from decimal import Decimal \n",
    "  \n",
    "def gcd(a,b): \n",
    "    if b==0: \n",
    "        return a \n",
    "    else: \n",
    "        return gcd(b,a%b) \n",
    "p = int(input('Enter the value of p = ')) \n",
    "q = int(input('Enter the value of q = ')) \n",
    "no = int(input('Enter the value of text = ')) \n",
    "n = p*q \n",
    "t = (p-1)*(q-1) \n",
    "\n",
    "#intializing start time after all user inputs are taken\n",
    "start = timeit.default_timer()\n",
    "  \n",
    "for e in range(2,t): \n",
    "    if gcd(e,t)== 1: \n",
    "        break\n",
    "  \n",
    "  \n",
    "for i in range(1,10): \n",
    "    x = 1 + i*t \n",
    "    if x % e == 0: \n",
    "        d = int(x/e) \n",
    "        break\n",
    "ctt = Decimal(0) \n",
    "ctt =pow(no,e) \n",
    "ct = ctt % n \n",
    "  \n",
    "dtt = Decimal(0) \n",
    "dtt = pow(ct,d) \n",
    "dt = dtt % n \n",
    "print('n = '+str(n)+' e = '+str(e)+' t = '+str(t)+' d = '+str(d)+' cipher text = '+str(ct)+' decrypted text = '+str(dt)) \n",
    "stop = timeit.default_timer()\n",
    "execution_time = stop - start\n",
    "\n",
    "print(\"Program Executed in \"+str(execution_time))\n"
   ]
  },
  {
   "cell_type": "code",
   "execution_count": 9,
   "metadata": {
    "colab": {
     "base_uri": "https://localhost:8080/",
     "height": 102
    },
    "colab_type": "code",
    "id": "ubTGy3OTZ2T4",
    "outputId": "2de43785-b96c-45a9-e7cf-82cb3fa084be"
   },
   "outputs": [
    {
     "name": "stdout",
     "output_type": "stream",
     "text": [
      "Enter the value of p = 23\n",
      "Enter the value of q = 9\n",
      "Enter the value of text = 14\n",
      "n = 207 e = 3 t = 176 d = 59 cipher text = 53 decrypted text = 152\n",
      "Program Executed in 0.002047400000037669\n"
     ]
    }
   ],
   "source": [
    "import time\n",
    "from decimal import Decimal \n",
    "  \n",
    "def gcd(a,b): \n",
    "    if b==0: \n",
    "        return a \n",
    "    else: \n",
    "        return gcd(b,a%b) \n",
    "p = int(input('Enter the value of p = ')) \n",
    "q = int(input('Enter the value of q = ')) \n",
    "no = int(input('Enter the value of text = ')) \n",
    "n = p*q \n",
    "t = (p-1)*(q-1) \n",
    "\n",
    "#intializing start time when looping starts\n",
    "start = timeit.default_timer()\n",
    "  \n",
    "for e in range(2,t): \n",
    "    if gcd(e,t)== 1: \n",
    "        break\n",
    "  \n",
    "  \n",
    "for i in range(1,10): \n",
    "    x = 1 + i*t \n",
    "    if x % e == 0: \n",
    "        d = int(x/e) \n",
    "        break\n",
    "ctt = Decimal(0) \n",
    "ctt =pow(no,e) \n",
    "ct = ctt % n \n",
    "  \n",
    "dtt = Decimal(0) \n",
    "dtt = pow(ct,d) \n",
    "dt = dtt % n \n",
    "print('n = '+str(n)+' e = '+str(e)+' t = '+str(t)+' d = '+str(d)+' cipher text = '+str(ct)+' decrypted text = '+str(dt)) \n",
    "stop = timeit.default_timer()\n",
    "execution_time = stop - start\n",
    "\n",
    "print(\"Program Executed in \"+str(execution_time))\n"
   ]
  },
  {
   "cell_type": "code",
   "execution_count": 10,
   "metadata": {
    "colab": {
     "base_uri": "https://localhost:8080/",
     "height": 102
    },
    "colab_type": "code",
    "id": "P4DAeR5XaGE5",
    "outputId": "909dd838-4ba3-4259-c9f0-4c6d2c9516e2"
   },
   "outputs": [
    {
     "name": "stdout",
     "output_type": "stream",
     "text": [
      "Enter the value of p = 23\n",
      "Enter the value of q = 9\n",
      "Enter the value of text = 19\n",
      "n = 207 e = 3 t = 176 d = 59 cipher text = 28 decrypted text = 19\n",
      "Program Executed in 0.0024902000000111\n"
     ]
    }
   ],
   "source": [
    "import time\n",
    "from decimal import Decimal \n",
    "  \n",
    "def gcd(a,b): \n",
    "    if b==0: \n",
    "        return a \n",
    "    else: \n",
    "        return gcd(b,a%b) \n",
    "p = int(input('Enter the value of p = ')) \n",
    "q = int(input('Enter the value of q = ')) \n",
    "no = int(input('Enter the value of text = ')) \n",
    "n = p*q \n",
    "t = (p-1)*(q-1) \n",
    "\n",
    "#intializing start time when looping starts\n",
    "start = timeit.default_timer()\n",
    "\n",
    "  \n",
    "for e in range(2,t): \n",
    "    if gcd(e,t)== 1: \n",
    "        break\n",
    "  \n",
    "  \n",
    "for i in range(1,10): \n",
    "    x = 1 + i*t \n",
    "    if x % e == 0: \n",
    "        d = int(x/e) \n",
    "        break\n",
    "ctt = Decimal(0) \n",
    "ctt =pow(no,e) \n",
    "ct = ctt % n \n",
    "  \n",
    "dtt = Decimal(0) \n",
    "dtt = pow(ct,d) \n",
    "dt = dtt % n \n",
    "print('n = '+str(n)+' e = '+str(e)+' t = '+str(t)+' d = '+str(d)+' cipher text = '+str(ct)+' decrypted text = '+str(dt)) \n",
    "stop = timeit.default_timer()\n",
    "execution_time = stop - start\n",
    "\n",
    "print(\"Program Executed in \"+str(execution_time))\n",
    "\n"
   ]
  }
 ],
 "metadata": {
  "colab": {
   "collapsed_sections": [],
   "name": "CB.EN.P2CSE19015 assgn1.ipynb",
   "provenance": []
  },
  "kernelspec": {
   "display_name": "Python 3",
   "language": "python",
   "name": "python3"
  },
  "language_info": {
   "codemirror_mode": {
    "name": "ipython",
    "version": 3
   },
   "file_extension": ".py",
   "mimetype": "text/x-python",
   "name": "python",
   "nbconvert_exporter": "python",
   "pygments_lexer": "ipython3",
   "version": "3.7.3"
  }
 },
 "nbformat": 4,
 "nbformat_minor": 1
}
